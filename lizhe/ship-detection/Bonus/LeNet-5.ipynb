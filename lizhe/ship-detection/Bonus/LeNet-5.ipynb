{
 "cells": [
  {
   "cell_type": "markdown",
   "metadata": {},
   "source": [
    "## LeNet5\n",
    "![LeNet5](https://cuijiahua.com/wp-content/uploads/2018/01/dl_3_1.png)\n",
    " 卷积层：提取特征（由卷积核决定特征类型）<br>\n",
    " 降采样层（池化层）：降维，减小计算量，降低过拟合<br>\n",
    " 全连接层：输出"
   ]
  },
  {
   "cell_type": "markdown",
   "metadata": {},
   "source": [
    "### 各层属性\n",
    "![layers](https://cuijiahua.com/wp-content/uploads/2018/01/dl_3_4.jpg)\n"
   ]
  },
  {
   "cell_type": "markdown",
   "metadata": {},
   "source": [
    "<details>\n",
    "<summary>INPUT-输入层</summary>\n",
    "  &emsp;&emsp;输入图像尺寸为32 * 32\n",
    "</details>\n",
    "    \n",
    "    \n",
    "<details>\n",
    "<summary>C1卷积层</summary>\n",
    "  &emsp;&emsp;输入图片：32 * 32<br>\n",
    "  &emsp;&emsp;卷积核大小：5 * 5<br>\n",
    "  &emsp;&emsp;卷积核种类：6<br>\n",
    "  &emsp;&emsp;输出feature maps大小：28 * 28  （32 - 6 + 1）<br>\n",
    "  &emsp;&emsp;神经元数量：28 * 28 * 6<br>\n",
    "  &emsp;&emsp;可训练参数：（5 * 5 + 1） * 6  （25units + 1bias）<br>\n",
    "  &emsp;&emsp;连接数：可训练参数 * 6 * 28 * 28\n",
    "</details>\n",
    "\n",
    "<details>\n",
    "<summary>S2池化层（下采样层）</summary>\n",
    "  &emsp;&emsp;输入：28 * 28<br>\n",
    "  &emsp;&emsp;池化参数：f = 2, stride = 2<br>\n",
    "  &emsp;&emsp;采样种类：6<br>\n",
    "  &emsp;&emsp;可训练参数：2 * 2 + 1<br>\n",
    "  &emsp;&emsp;输出feature maps大小：14 * 14\n",
    "</details>\n",
    "\n",
    "\n",
    "<details>\n",
    "<summary>C3卷积层</summary>\n",
    "  &emsp;&emsp;卷积核大小：5 * 5<br>\n",
    "  &emsp;&emsp;卷积核种类：16<br>\n",
    "  &emsp;&emsp;输出feature maps大小：10 * 10\n",
    "</details>\n",
    "\n",
    "<details>\n",
    "<summary>S4池化层（下采样层）</summary>\n",
    "  &emsp;&emsp;输入：10 * 10<br>\n",
    "  &emsp;&emsp;池化参数：f = 2, stride = 2<br>\n",
    "  &emsp;&emsp;采样种类：16<br>\n",
    "  &emsp;&emsp;输出feature maps大小：5 * 5\n",
    "</details>\n",
    "\n",
    "<details>\n",
    "<summary>C5卷积层</summary>\n",
    "  &emsp;&emsp;卷积核大小：5 * 5<br>\n",
    "  &emsp;&emsp;卷积核种类：120<br>\n",
    "  &emsp;&emsp;输出feature maps大小：1 * 1\n",
    "</details>\n",
    "\n",
    "<details>\n",
    "<summary>F6全连接层</summary>\n",
    "  &emsp;&emsp;输入：120维向量（1 * 1 * 120）<br>\n",
    "  &emsp;&emsp;结点数：84<br>\n",
    "  &emsp;&emsp;可训练参数：84 * (120 + 1)\n",
    "</details>\n",
    "\n",
    "<details>\n",
    "<summary>OUTPUT全连接层</summary>\n",
    "  &emsp;&emsp;结点数：10\n",
    "</details>"
   ]
  },
  {
   "cell_type": "markdown",
   "metadata": {},
   "source": [
    "### 识别过程\n",
    "![process](https://cuijiahua.com/wp-content/uploads/2018/01/dl_3_11.png)"
   ]
  },
  {
   "cell_type": "markdown",
   "metadata": {},
   "source": [
    "---\n",
    "### 基于Pytorch搭建的LeNet-5及训练与测试"
   ]
  },
  {
   "cell_type": "code",
   "execution_count": 1,
   "metadata": {},
   "outputs": [
    {
     "data": {
      "text/plain": [
       "Net(\n",
       "  (conv1): Conv2d(1, 6, kernel_size=(5, 5), stride=(1, 1), padding=(2, 2))\n",
       "  (conv2): Conv2d(6, 16, kernel_size=(5, 5), stride=(1, 1))\n",
       "  (fc1): Linear(in_features=400, out_features=120, bias=True)\n",
       "  (fc2): Linear(in_features=120, out_features=84, bias=True)\n",
       "  (fc3): Linear(in_features=84, out_features=10, bias=True)\n",
       ")"
      ]
     },
     "execution_count": 1,
     "metadata": {},
     "output_type": "execute_result"
    }
   ],
   "source": [
    "import torch.nn as nn\n",
    "import torch.nn.functional as F\n",
    "\n",
    "class Net(nn.Module):\n",
    "    def __init__(self):\n",
    "        # nn.Module子类的函数必须在构造函数中执行父类的构造函数\n",
    "        super(Net, self).__init__()\n",
    "        # 输入单通道，输出通道数6，卷积核size = 5, padding = 2\n",
    "        self.conv1 = nn.Conv2d(1, 6, 5, 1, 2)\n",
    "        self.conv2 = nn.Conv2d(6, 16, 5)\n",
    "        # 仿射层/全连接层, y = Wx + b\n",
    "        self.fc1 = nn.Linear(16*5*5, 120)\n",
    "        self.fc2 = nn.Linear(120, 84)\n",
    "        self.fc3 = nn.Linear(84, 10)\n",
    "        \n",
    "    def forward(self, x):\n",
    "        # 卷积 → 激活 → 池化\n",
    "        x = F.max_pool2d(F.relu(self.conv1(x)), (2, 2))\n",
    "        x = F.max_pool2d(F.relu(self.conv2(x)), 2)\n",
    "        # reshape, -1表示自适应\n",
    "        x = x.view(x.size()[0], -1)\n",
    "        x = F.relu(self.fc1(x))\n",
    "        x = F.relu(self.fc2(x))\n",
    "        x = self.fc3(x)\n",
    "        return x\n",
    "\n",
    "net = Net()\n",
    "net"
   ]
  },
  {
   "cell_type": "code",
   "execution_count": 2,
   "metadata": {},
   "outputs": [
    {
     "name": "stdout",
     "output_type": "stream",
     "text": [
      "可学习参数:  10\n",
      "conv1.weight : torch.Size([6, 1, 5, 5])\n",
      "conv1.bias : torch.Size([6])\n",
      "conv2.weight : torch.Size([16, 6, 5, 5])\n",
      "conv2.bias : torch.Size([16])\n",
      "fc1.weight : torch.Size([120, 400])\n",
      "fc1.bias : torch.Size([120])\n",
      "fc2.weight : torch.Size([84, 120])\n",
      "fc2.bias : torch.Size([84])\n",
      "fc3.weight : torch.Size([10, 84])\n",
      "fc3.bias : torch.Size([10])\n"
     ]
    }
   ],
   "source": [
    "# 可学习参数\n",
    "params = list(net.parameters())\n",
    "print('可学习参数: ', len(params))\n",
    "for name, parameters in net.named_parameters():\n",
    "    print(name, ':', parameters.size())"
   ]
  },
  {
   "cell_type": "code",
   "execution_count": 3,
   "metadata": {},
   "outputs": [],
   "source": [
    "import torch\n",
    "import torchvision as tv\n",
    "import torchvision.transforms as transforms\n",
    "import torch.optim as optim\n",
    "EPOCH = 4\n",
    "BATCH_SIZE = 64\n",
    "LR = 0.001"
   ]
  },
  {
   "cell_type": "code",
   "execution_count": 4,
   "metadata": {},
   "outputs": [
    {
     "name": "stdout",
     "output_type": "stream",
     "text": [
      "cuda\n"
     ]
    }
   ],
   "source": [
    "# pre-treat\n",
    "transform = transforms.ToTensor()\n",
    "\n",
    "trainset = tv.datasets.MNIST(\n",
    "    root='F:/[Base] Code/DataSets',\n",
    "    train=True,\n",
    "    download=False,\n",
    "    transform=transform)\n",
    "\n",
    "trainloader = torch.utils.data.DataLoader(\n",
    "    trainset,\n",
    "    batch_size=BATCH_SIZE,\n",
    "    shuffle=True,\n",
    "    )\n",
    "\n",
    "testset = tv.datasets.MNIST(\n",
    "    root='F:/[Base] Code/DataSets',\n",
    "    train=False,\n",
    "    download=False,\n",
    "    transform=transform)\n",
    "\n",
    "testloader = torch.utils.data.DataLoader(\n",
    "    testset,\n",
    "    batch_size=BATCH_SIZE,\n",
    "    shuffle=False,\n",
    "    )\n",
    "\n",
    "device = torch.device(\"cuda\" if torch.cuda.is_available() else \"cpu\")\n",
    "print(device)\n",
    "device = torch.device(\"cpu\")\n",
    "net = Net().to(device)\n",
    "criterion = nn.CrossEntropyLoss()\n",
    "optimizer = optim.SGD(net.parameters(), lr=LR, momentum=0.9)"
   ]
  },
  {
   "cell_type": "markdown",
   "metadata": {},
   "source": [
    "### train & test"
   ]
  },
  {
   "cell_type": "code",
   "execution_count": 5,
   "metadata": {},
   "outputs": [
    {
     "name": "stdout",
     "output_type": "stream",
     "text": [
      "[1, 100] loss: 2.303\n",
      "[1, 200] loss: 2.299\n",
      "[1, 300] loss: 2.296\n",
      "[1, 400] loss: 2.291\n",
      "[1, 500] loss: 2.284\n",
      "[1, 600] loss: 2.276\n",
      "[1, 700] loss: 2.258\n",
      "[1, 800] loss: 2.220\n",
      "[1, 900] loss: 2.090\n",
      "第1个epoch的识别准确率为：58%\n",
      "[2, 100] loss: 1.318\n",
      "[2, 200] loss: 0.815\n",
      "[2, 300] loss: 0.623\n",
      "[2, 400] loss: 0.532\n",
      "[2, 500] loss: 0.424\n",
      "[2, 600] loss: 0.431\n",
      "[2, 700] loss: 0.404\n",
      "[2, 800] loss: 0.351\n",
      "[2, 900] loss: 0.362\n",
      "第2个epoch的识别准确率为：91%\n",
      "[3, 100] loss: 0.295\n",
      "[3, 200] loss: 0.288\n",
      "[3, 300] loss: 0.312\n",
      "[3, 400] loss: 0.257\n",
      "[3, 500] loss: 0.294\n",
      "[3, 600] loss: 0.256\n",
      "[3, 700] loss: 0.234\n",
      "[3, 800] loss: 0.219\n",
      "[3, 900] loss: 0.238\n",
      "第3个epoch的识别准确率为：94%\n",
      "[4, 100] loss: 0.213\n",
      "[4, 200] loss: 0.196\n",
      "[4, 300] loss: 0.193\n",
      "[4, 400] loss: 0.188\n",
      "[4, 500] loss: 0.202\n",
      "[4, 600] loss: 0.180\n",
      "[4, 700] loss: 0.164\n",
      "[4, 800] loss: 0.167\n",
      "[4, 900] loss: 0.147\n",
      "第4个epoch的识别准确率为：95%\n"
     ]
    }
   ],
   "source": [
    "loss_list = []\n",
    "acc_list = []\n",
    "\n",
    "if __name__ == \"__main__\":\n",
    "\n",
    "    for epoch in range(EPOCH):\n",
    "        sum_loss = 0.0\n",
    "        for i, data in enumerate(trainloader):\n",
    "            inputs, labels = data\n",
    "            inputs, labels = inputs.to(device), labels.to(device)\n",
    "            optimizer.zero_grad()\n",
    "            outputs = net(inputs)\n",
    "            loss = criterion(outputs, labels)\n",
    "            loss.backward()\n",
    "            optimizer.step()\n",
    "            sum_loss += loss.item()\n",
    "            \n",
    "            loss_list.append(sum_loss / 100)\n",
    "            \n",
    "            if i % 100 == 99:\n",
    "                print('[%d, %d] loss: %.03f'\n",
    "                      % (epoch + 1, i + 1, sum_loss / 100))\n",
    "                \n",
    "                sum_loss = 0.0\n",
    "        with torch.no_grad():\n",
    "            correct = 0\n",
    "            total = 0\n",
    "            for data in testloader:\n",
    "                images, labels = data\n",
    "                images, labels = images.to(device), labels.to(device)\n",
    "                outputs = net(images)\n",
    "                _, predicted = torch.max(outputs.data, 1)\n",
    "                total += labels.size(0)\n",
    "                correct += (predicted == labels).sum()\n",
    "                \n",
    "                acc_list.append(100 * correct / total)\n",
    "            \n",
    "            print('第%d个epoch的识别准确率为：%d%%' % (epoch + 1, (100 * correct / total)))\n",
    "    torch.save(net.state_dict(), 'MNIST_LeNet.pth')"
   ]
  },
  {
   "cell_type": "markdown",
   "metadata": {},
   "source": [
    "* GPU: 注意增大batch_size，否则loss会产生强烈的振荡现象，这与GPU并行计算的性质有关"
   ]
  },
  {
   "cell_type": "code",
   "execution_count": 7,
   "metadata": {},
   "outputs": [
    {
     "data": {
      "image/png": "[encoded data removed]",
      "text/plain": [
       "<Figure size 432x288 with 2 Axes>"
      ]
     },
     "metadata": {
      "needs_background": "light"
     },
     "output_type": "display_data"
    },
    {
     "data": {
      "text/plain": [
       "<Figure size 432x288 with 0 Axes>"
      ]
     },
     "metadata": {},
     "output_type": "display_data"
    }
   ],
   "source": [
    "import matplotlib.pyplot as plt\n",
    "x1 = range(0, 628)\n",
    "x2 = range(0, 3752)\n",
    "y1 = acc_list\n",
    "y2 = loss_list\n",
    "plt.subplot(2, 1, 1)\n",
    "plt.plot(x1, y1, 'o-')\n",
    "plt.title('Test accuracy vs. epoches')\n",
    "plt.ylabel('Test accuracy')\n",
    "plt.subplot(2, 1, 2)\n",
    "plt.plot(x2, y2, '.-')\n",
    "plt.xlabel('Test loss vs. epoches')\n",
    "plt.ylabel('Test loss')\n",
    "plt.show()\n",
    "plt.savefig(\"accuracy_loss.jpg\")"
   ]
  },
  {
   "cell_type": "code",
   "execution_count": null,
   "metadata": {},
   "outputs": [],
   "source": []
  }
 ],
 "metadata": {
  "kernelspec": {
   "display_name": "Python 3",
   "language": "python",
   "name": "python3"
  },
  "language_info": {
   "codemirror_mode": {
    "name": "ipython",
    "version": 3
   },
   "file_extension": ".py",
   "mimetype": "text/x-python",
   "name": "python",
   "nbconvert_exporter": "python",
   "pygments_lexer": "ipython3",
   "version": "3.7.3"
  }
 },
 "nbformat": 4,
 "nbformat_minor": 2
}
